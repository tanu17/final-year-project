{
 "cells": [
  {
   "cell_type": "code",
   "execution_count": 1,
   "metadata": {},
   "outputs": [
    {
     "name": "stderr",
     "output_type": "stream",
     "text": [
      "D:\\conda\\lib\\site-packages\\tensorflow\\python\\framework\\dtypes.py:516: FutureWarning: Passing (type, 1) or '1type' as a synonym of type is deprecated; in a future version of numpy, it will be understood as (type, (1,)) / '(1,)type'.\n",
      "  _np_qint8 = np.dtype([(\"qint8\", np.int8, 1)])\n",
      "D:\\conda\\lib\\site-packages\\tensorflow\\python\\framework\\dtypes.py:517: FutureWarning: Passing (type, 1) or '1type' as a synonym of type is deprecated; in a future version of numpy, it will be understood as (type, (1,)) / '(1,)type'.\n",
      "  _np_quint8 = np.dtype([(\"quint8\", np.uint8, 1)])\n",
      "D:\\conda\\lib\\site-packages\\tensorflow\\python\\framework\\dtypes.py:518: FutureWarning: Passing (type, 1) or '1type' as a synonym of type is deprecated; in a future version of numpy, it will be understood as (type, (1,)) / '(1,)type'.\n",
      "  _np_qint16 = np.dtype([(\"qint16\", np.int16, 1)])\n",
      "D:\\conda\\lib\\site-packages\\tensorflow\\python\\framework\\dtypes.py:519: FutureWarning: Passing (type, 1) or '1type' as a synonym of type is deprecated; in a future version of numpy, it will be understood as (type, (1,)) / '(1,)type'.\n",
      "  _np_quint16 = np.dtype([(\"quint16\", np.uint16, 1)])\n",
      "D:\\conda\\lib\\site-packages\\tensorflow\\python\\framework\\dtypes.py:520: FutureWarning: Passing (type, 1) or '1type' as a synonym of type is deprecated; in a future version of numpy, it will be understood as (type, (1,)) / '(1,)type'.\n",
      "  _np_qint32 = np.dtype([(\"qint32\", np.int32, 1)])\n",
      "D:\\conda\\lib\\site-packages\\tensorflow\\python\\framework\\dtypes.py:525: FutureWarning: Passing (type, 1) or '1type' as a synonym of type is deprecated; in a future version of numpy, it will be understood as (type, (1,)) / '(1,)type'.\n",
      "  np_resource = np.dtype([(\"resource\", np.ubyte, 1)])\n",
      "D:\\conda\\lib\\site-packages\\tensorboard\\compat\\tensorflow_stub\\dtypes.py:541: FutureWarning: Passing (type, 1) or '1type' as a synonym of type is deprecated; in a future version of numpy, it will be understood as (type, (1,)) / '(1,)type'.\n",
      "  _np_qint8 = np.dtype([(\"qint8\", np.int8, 1)])\n",
      "D:\\conda\\lib\\site-packages\\tensorboard\\compat\\tensorflow_stub\\dtypes.py:542: FutureWarning: Passing (type, 1) or '1type' as a synonym of type is deprecated; in a future version of numpy, it will be understood as (type, (1,)) / '(1,)type'.\n",
      "  _np_quint8 = np.dtype([(\"quint8\", np.uint8, 1)])\n",
      "D:\\conda\\lib\\site-packages\\tensorboard\\compat\\tensorflow_stub\\dtypes.py:543: FutureWarning: Passing (type, 1) or '1type' as a synonym of type is deprecated; in a future version of numpy, it will be understood as (type, (1,)) / '(1,)type'.\n",
      "  _np_qint16 = np.dtype([(\"qint16\", np.int16, 1)])\n",
      "D:\\conda\\lib\\site-packages\\tensorboard\\compat\\tensorflow_stub\\dtypes.py:544: FutureWarning: Passing (type, 1) or '1type' as a synonym of type is deprecated; in a future version of numpy, it will be understood as (type, (1,)) / '(1,)type'.\n",
      "  _np_quint16 = np.dtype([(\"quint16\", np.uint16, 1)])\n",
      "D:\\conda\\lib\\site-packages\\tensorboard\\compat\\tensorflow_stub\\dtypes.py:545: FutureWarning: Passing (type, 1) or '1type' as a synonym of type is deprecated; in a future version of numpy, it will be understood as (type, (1,)) / '(1,)type'.\n",
      "  _np_qint32 = np.dtype([(\"qint32\", np.int32, 1)])\n",
      "D:\\conda\\lib\\site-packages\\tensorboard\\compat\\tensorflow_stub\\dtypes.py:550: FutureWarning: Passing (type, 1) or '1type' as a synonym of type is deprecated; in a future version of numpy, it will be understood as (type, (1,)) / '(1,)type'.\n",
      "  np_resource = np.dtype([(\"resource\", np.ubyte, 1)])\n",
      "D:\\conda\\lib\\site-packages\\sklearn\\utils\\deprecation.py:144: FutureWarning: The sklearn.semi_supervised.label_propagation module is  deprecated in version 0.22 and will be removed in version 0.24. The corresponding classes / functions should instead be imported from sklearn.semi_supervised. Anything that cannot be imported from sklearn.semi_supervised is now part of the private API.\n",
      "  warnings.warn(message, FutureWarning)\n",
      "D:\\conda\\lib\\site-packages\\sklearn\\base.py:318: UserWarning: Trying to unpickle estimator LabelPropagation from version 0.18 when using version 0.22.2.post1. This might lead to breaking code or invalid results. Use at your own risk.\n",
      "  UserWarning)\n"
     ]
    }
   ],
   "source": [
    "import pandas as pd\n",
    "import joblib\n",
    "from flair.models import TextClassifier\n",
    "from flair.data import Sentence \n",
    "import string\n",
    "import spacy \n",
    "import en_core_web_sm\n",
    "from nltk.tokenize import word_tokenize\n",
    "from normalise import normalise\n",
    "import numpy as np\n",
    "nlp = en_core_web_sm.load()"
   ]
  },
  {
   "cell_type": "code",
   "execution_count": 68,
   "metadata": {},
   "outputs": [],
   "source": [
    "def preprocess_text(text):\n",
    "    try:\n",
    "        normalized_text = _normalize(text)\n",
    "        doc = nlp(normalized_text)\n",
    "        removed_punct = _remove_punct(doc)\n",
    "        removed_stop_words = _remove_stop_words(removed_punct)\n",
    "        txt = _lemmatize(removed_stop_words)\n",
    "        txt = txt.lower()\n",
    "        return txt\n",
    "    except Exception as e:\n",
    "        return\n",
    "    \n",
    "\n",
    "def _normalize(text):\n",
    "    # some issues in normalise package\n",
    "    try:\n",
    "        return ' '.join(normalise(text, variety=\"BrE\", user_abbrevs={}, verbose=False))\n",
    "    except:\n",
    "        return text\n",
    "\n",
    "def _remove_punct(doc):\n",
    "    return [t for t in doc if t.text not in string.punctuation]\n",
    "\n",
    "def _remove_stop_words(doc):\n",
    "    return [t for t in doc if not t.is_stop]\n",
    "\n",
    "def _lemmatize(doc):\n",
    "    return ' '.join([t.lemma_ for t in doc])\n",
    "\n",
    "\n",
    "def glower(text):\n",
    "    try:\n",
    "        text =  text.lower()\n",
    "        return text\n",
    "    except Exception as e:\n",
    "        return None"
   ]
  },
  {
   "cell_type": "code",
   "execution_count": 55,
   "metadata": {
    "scrolled": false
   },
   "outputs": [],
   "source": [
    "#data = joblib.load('./list_of_shortened_files.pkl')\n",
    "shorten = []\n",
    "for i in range(1,512):\n",
    "    with open('./shortened/{}.txt'.format(i), 'r+', encoding=\"utf8\") as f:\n",
    "        shorten.append(''.join(f.readlines()))"
   ]
  },
  {
   "cell_type": "code",
   "execution_count": 51,
   "metadata": {},
   "outputs": [
    {
     "name": "stdout",
     "output_type": "stream",
     "text": [
      "2020-05-03 01:21:08,837 loading file C:\\Users\\ishan\\.flair\\models\\imdb-v0.4.pt\n"
     ]
    }
   ],
   "source": [
    "classifier = TextClassifier.load('en-sentiment')"
   ]
  },
  {
   "cell_type": "code",
   "execution_count": 52,
   "metadata": {},
   "outputs": [
    {
     "name": "stdout",
     "output_type": "stream",
     "text": [
      "Sentence above is:  [POSITIVE (0.6636102795600891)]\n"
     ]
    }
   ],
   "source": [
    "\n",
    "sentence = Sentence('Flair is pretty neat!')\n",
    "classifier.predict(sentence)\n",
    "# print sentence with predicted labels\n",
    "print('Sentence above is: ', sentence.labels)"
   ]
  },
  {
   "cell_type": "code",
   "execution_count": 53,
   "metadata": {},
   "outputs": [
    {
     "data": {
      "text/plain": [
       "{'value': 'POSITIVE', 'confidence': 0.6636102795600891}"
      ]
     },
     "execution_count": 53,
     "metadata": {},
     "output_type": "execute_result"
    }
   ],
   "source": [
    "sentence.labels[0].to_dict()"
   ]
  },
  {
   "cell_type": "code",
   "execution_count": 56,
   "metadata": {},
   "outputs": [
    {
     "data": {
      "text/plain": [
       "511"
      ]
     },
     "execution_count": 56,
     "metadata": {},
     "output_type": "execute_result"
    }
   ],
   "source": [
    "len(shorten)"
   ]
  },
  {
   "cell_type": "code",
   "execution_count": 57,
   "metadata": {},
   "outputs": [
    {
     "data": {
      "text/html": [
       "<div>\n",
       "<style scoped>\n",
       "    .dataframe tbody tr th:only-of-type {\n",
       "        vertical-align: middle;\n",
       "    }\n",
       "\n",
       "    .dataframe tbody tr th {\n",
       "        vertical-align: top;\n",
       "    }\n",
       "\n",
       "    .dataframe thead th {\n",
       "        text-align: right;\n",
       "    }\n",
       "</style>\n",
       "<table border=\"1\" class=\"dataframe\">\n",
       "  <thead>\n",
       "    <tr style=\"text-align: right;\">\n",
       "      <th></th>\n",
       "      <th>s_num</th>\n",
       "      <th>score</th>\n",
       "      <th>eastern/western</th>\n",
       "      <th>Headlines</th>\n",
       "      <th>Context</th>\n",
       "      <th>Unnamed: 5</th>\n",
       "      <th>Unnamed: 6</th>\n",
       "      <th>Unnamed: 7</th>\n",
       "    </tr>\n",
       "  </thead>\n",
       "  <tbody>\n",
       "    <tr>\n",
       "      <th>0</th>\n",
       "      <td>1</td>\n",
       "      <td>-1.0</td>\n",
       "      <td>W</td>\n",
       "      <td>This crisis has taught us the true cost of doi...</td>\n",
       "      <td>Public health is not the only area in which Ch...</td>\n",
       "      <td>-13</td>\n",
       "      <td>NaN</td>\n",
       "      <td>NaN</td>\n",
       "    </tr>\n",
       "    <tr>\n",
       "      <th>1</th>\n",
       "      <td>2</td>\n",
       "      <td>-1.0</td>\n",
       "      <td>W</td>\n",
       "      <td>The forgotten victims of China’s Belt and Road...</td>\n",
       "      <td>But one group of victims is often overlooked: ...</td>\n",
       "      <td>NaN</td>\n",
       "      <td>NaN</td>\n",
       "      <td>NaN</td>\n",
       "    </tr>\n",
       "    <tr>\n",
       "      <th>2</th>\n",
       "      <td>3</td>\n",
       "      <td>-1.0</td>\n",
       "      <td>W</td>\n",
       "      <td>China’s debt traps around the world are a trad...</td>\n",
       "      <td>But the 93-year-old leader, who recaptured the...</td>\n",
       "      <td>NaN</td>\n",
       "      <td>NaN</td>\n",
       "      <td>NaN</td>\n",
       "    </tr>\n",
       "    <tr>\n",
       "      <th>3</th>\n",
       "      <td>4</td>\n",
       "      <td>-1.0</td>\n",
       "      <td>W</td>\n",
       "      <td>Why countries might want out of China’s Belt a...</td>\n",
       "      <td>“The future’s coming now,” a group of children...</td>\n",
       "      <td>gave good projects too</td>\n",
       "      <td>NaN</td>\n",
       "      <td>NaN</td>\n",
       "    </tr>\n",
       "    <tr>\n",
       "      <th>4</th>\n",
       "      <td>5</td>\n",
       "      <td>0.0</td>\n",
       "      <td>W</td>\n",
       "      <td>Silk Road forum showcases China’s power — and ...</td>\n",
       "      <td>The videos are so cringe-inducing, so ridiculo...</td>\n",
       "      <td>NaN</td>\n",
       "      <td>-1.0</td>\n",
       "      <td>NaN</td>\n",
       "    </tr>\n",
       "  </tbody>\n",
       "</table>\n",
       "</div>"
      ],
      "text/plain": [
       "    s_num  score eastern/western  \\\n",
       "0       1   -1.0               W   \n",
       "1       2   -1.0               W   \n",
       "2       3   -1.0               W   \n",
       "3       4   -1.0               W   \n",
       "4       5    0.0               W   \n",
       "\n",
       "                                           Headlines  \\\n",
       "0  This crisis has taught us the true cost of doi...   \n",
       "1  The forgotten victims of China’s Belt and Road...   \n",
       "2  China’s debt traps around the world are a trad...   \n",
       "3  Why countries might want out of China’s Belt a...   \n",
       "4  Silk Road forum showcases China’s power — and ...   \n",
       "\n",
       "                                             Context               Unnamed: 5  \\\n",
       "0  Public health is not the only area in which Ch...                      -13   \n",
       "1  But one group of victims is often overlooked: ...                      NaN   \n",
       "2  But the 93-year-old leader, who recaptured the...                      NaN   \n",
       "3  “The future’s coming now,” a group of children...  gave good projects too    \n",
       "4  The videos are so cringe-inducing, so ridiculo...                      NaN   \n",
       "\n",
       "   Unnamed: 6 Unnamed: 7  \n",
       "0         NaN        NaN  \n",
       "1         NaN        NaN  \n",
       "2         NaN        NaN  \n",
       "3         NaN        NaN  \n",
       "4        -1.0        NaN  "
      ]
     },
     "execution_count": 57,
     "metadata": {},
     "output_type": "execute_result"
    }
   ],
   "source": [
    "full = pd.read_csv('./China_withOnlyFullText.csv', encoding='utf-8')\n",
    "full.head()"
   ]
  },
  {
   "cell_type": "code",
   "execution_count": 58,
   "metadata": {},
   "outputs": [],
   "source": [
    "head_shorten = []\n",
    "for i,j in zip(full['Headlines'].tolist(), shorten):\n",
    "    try:\n",
    "        head_shorten.append(i+'. '+j) \n",
    "    except: \n",
    "        head_shorten.append('-') \n",
    "\n",
    "cols = []\n",
    "for i in ['short', 'full', 'head']:\n",
    "    cols.extend([i,i+'_label',i+'_score'])"
   ]
  },
  {
   "cell_type": "code",
   "execution_count": 59,
   "metadata": {},
   "outputs": [
    {
     "data": {
      "text/html": [
       "<div>\n",
       "<style scoped>\n",
       "    .dataframe tbody tr th:only-of-type {\n",
       "        vertical-align: middle;\n",
       "    }\n",
       "\n",
       "    .dataframe tbody tr th {\n",
       "        vertical-align: top;\n",
       "    }\n",
       "\n",
       "    .dataframe thead th {\n",
       "        text-align: right;\n",
       "    }\n",
       "</style>\n",
       "<table border=\"1\" class=\"dataframe\">\n",
       "  <thead>\n",
       "    <tr style=\"text-align: right;\">\n",
       "      <th></th>\n",
       "      <th>short</th>\n",
       "      <th>short_label</th>\n",
       "      <th>short_score</th>\n",
       "      <th>full</th>\n",
       "      <th>full_label</th>\n",
       "      <th>full_score</th>\n",
       "      <th>head</th>\n",
       "      <th>head_label</th>\n",
       "      <th>head_score</th>\n",
       "    </tr>\n",
       "  </thead>\n",
       "  <tbody>\n",
       "  </tbody>\n",
       "</table>\n",
       "</div>"
      ],
      "text/plain": [
       "Empty DataFrame\n",
       "Columns: [short, short_label, short_score, full, full_label, full_score, head, head_label, head_score]\n",
       "Index: []"
      ]
     },
     "execution_count": 59,
     "metadata": {},
     "output_type": "execute_result"
    }
   ],
   "source": [
    "df = pd.DataFrame(columns=cols)\n",
    "def get_score(text):\n",
    "    try:\n",
    "        sentence = Sentence(text)\n",
    "        classifier.predict(sentence)\n",
    "        score = sentence.labels[0].to_dict()\n",
    "        return score['confidence']\n",
    "    except:\n",
    "        return None\n",
    "\n",
    "def get_value(text):\n",
    "    try:\n",
    "        sentence = Sentence(text)\n",
    "        classifier.predict(sentence)\n",
    "        score = sentence.labels[0].to_dict()\n",
    "        return score['value']\n",
    "    except:\n",
    "        return None\n",
    "    \n",
    "df.head()"
   ]
  },
  {
   "cell_type": "code",
   "execution_count": 69,
   "metadata": {},
   "outputs": [],
   "source": [
    "df['head'] = full['Headlines'].tolist()\n",
    "#df['head_short'] = head_shorten\n",
    "df['full'] = full['Context']\n",
    "#shorten = shorten.extend([' ']*(len(df['full'])-len(shorten)))\n",
    "for i in range(len(shorten)):\n",
    "    df['short'].iloc[i] = shorten[i]"
   ]
  },
  {
   "cell_type": "code",
   "execution_count": 71,
   "metadata": {},
   "outputs": [],
   "source": [
    "df['short'] = df['short'].apply(preprocess_text)\n",
    "df['full'] = df['full'].apply(preprocess_text)\n",
    "df['head'] = df['head'].apply(preprocess_text)"
   ]
  },
  {
   "cell_type": "code",
   "execution_count": 72,
   "metadata": {},
   "outputs": [
    {
     "data": {
      "text/html": [
       "<div>\n",
       "<style scoped>\n",
       "    .dataframe tbody tr th:only-of-type {\n",
       "        vertical-align: middle;\n",
       "    }\n",
       "\n",
       "    .dataframe tbody tr th {\n",
       "        vertical-align: top;\n",
       "    }\n",
       "\n",
       "    .dataframe thead th {\n",
       "        text-align: right;\n",
       "    }\n",
       "</style>\n",
       "<table border=\"1\" class=\"dataframe\">\n",
       "  <thead>\n",
       "    <tr style=\"text-align: right;\">\n",
       "      <th></th>\n",
       "      <th>short</th>\n",
       "      <th>short_label</th>\n",
       "      <th>short_score</th>\n",
       "      <th>full</th>\n",
       "      <th>full_label</th>\n",
       "      <th>full_score</th>\n",
       "      <th>head</th>\n",
       "      <th>head_label</th>\n",
       "      <th>head_score</th>\n",
       "    </tr>\n",
       "  </thead>\n",
       "  <tbody>\n",
       "    <tr>\n",
       "      <th>0</th>\n",
       "      <td>china particularly interested share wealth rai...</td>\n",
       "      <td>NaN</td>\n",
       "      <td>NaN</td>\n",
       "      <td>public health area china ’s insistence play no...</td>\n",
       "      <td>NaN</td>\n",
       "      <td>NaN</td>\n",
       "      <td>crisis teach true cost business china</td>\n",
       "      <td>NaN</td>\n",
       "      <td>NaN</td>\n",
       "    </tr>\n",
       "    <tr>\n",
       "      <th>1</th>\n",
       "      <td>pacific partnership right answer china 's stat...</td>\n",
       "      <td>NaN</td>\n",
       "      <td>NaN</td>\n",
       "      <td>group victim overlook chinese worker dispatch ...</td>\n",
       "      <td>NaN</td>\n",
       "      <td>NaN</td>\n",
       "      <td>forget victim china ’s belt road initiative</td>\n",
       "      <td>NaN</td>\n",
       "      <td>NaN</td>\n",
       "    </tr>\n",
       "    <tr>\n",
       "      <th>2</th>\n",
       "      <td>exception united state address issue push forw...</td>\n",
       "      <td>NaN</td>\n",
       "      <td>NaN</td>\n",
       "      <td>93-year old leader recapture premiership year ...</td>\n",
       "      <td>NaN</td>\n",
       "      <td>NaN</td>\n",
       "      <td>china ’s debt trap world trademark imperialist...</td>\n",
       "      <td>NaN</td>\n",
       "      <td>NaN</td>\n",
       "    </tr>\n",
       "    <tr>\n",
       "      <th>3</th>\n",
       "      <td>president xi jinpe china evoke camel carava...</td>\n",
       "      <td>NaN</td>\n",
       "      <td>NaN</td>\n",
       "      <td>\" future ’s come \" group child sing clip \" bel...</td>\n",
       "      <td>NaN</td>\n",
       "      <td>NaN</td>\n",
       "      <td>country want china ’s belt road</td>\n",
       "      <td>NaN</td>\n",
       "      <td>NaN</td>\n",
       "    </tr>\n",
       "    <tr>\n",
       "      <th>4</th>\n",
       "      <td>china long close strategic partner pakistan pr...</td>\n",
       "      <td>NaN</td>\n",
       "      <td>NaN</td>\n",
       "      <td>video cringe inducing ridiculously saccharine ...</td>\n",
       "      <td>NaN</td>\n",
       "      <td>NaN</td>\n",
       "      <td>silk road forum showcase china ’s power — powe...</td>\n",
       "      <td>NaN</td>\n",
       "      <td>NaN</td>\n",
       "    </tr>\n",
       "  </tbody>\n",
       "</table>\n",
       "</div>"
      ],
      "text/plain": [
       "                                               short short_label short_score  \\\n",
       "0  china particularly interested share wealth rai...         NaN         NaN   \n",
       "1  pacific partnership right answer china 's stat...         NaN         NaN   \n",
       "2  exception united state address issue push forw...         NaN         NaN   \n",
       "3     president xi jinpe china evoke camel carava...         NaN         NaN   \n",
       "4  china long close strategic partner pakistan pr...         NaN         NaN   \n",
       "\n",
       "                                                full full_label full_score  \\\n",
       "0  public health area china ’s insistence play no...        NaN        NaN   \n",
       "1  group victim overlook chinese worker dispatch ...        NaN        NaN   \n",
       "2  93-year old leader recapture premiership year ...        NaN        NaN   \n",
       "3  \" future ’s come \" group child sing clip \" bel...        NaN        NaN   \n",
       "4  video cringe inducing ridiculously saccharine ...        NaN        NaN   \n",
       "\n",
       "                                                head head_label head_score  \n",
       "0              crisis teach true cost business china        NaN        NaN  \n",
       "1        forget victim china ’s belt road initiative        NaN        NaN  \n",
       "2  china ’s debt trap world trademark imperialist...        NaN        NaN  \n",
       "3                    country want china ’s belt road        NaN        NaN  \n",
       "4  silk road forum showcase china ’s power — powe...        NaN        NaN  "
      ]
     },
     "execution_count": 72,
     "metadata": {},
     "output_type": "execute_result"
    }
   ],
   "source": [
    "df.head()"
   ]
  },
  {
   "cell_type": "code",
   "execution_count": null,
   "metadata": {},
   "outputs": [],
   "source": [
    "for i in ['short', 'full', 'head']:\n",
    "    df[i+'_label'] = df[i].apply(get_value)\n",
    "    df[i+'_score'] = df[i].apply(get_score)"
   ]
  },
  {
   "cell_type": "code",
   "execution_count": null,
   "metadata": {},
   "outputs": [],
   "source": [
    "df.head()"
   ]
  },
  {
   "cell_type": "code",
   "execution_count": null,
   "metadata": {},
   "outputs": [],
   "source": [
    "df.to_csv('./sentiment_data.csv', encoding='utf-8')"
   ]
  }
 ],
 "metadata": {
  "kernelspec": {
   "display_name": "Python 3",
   "language": "python",
   "name": "python3"
  },
  "language_info": {
   "codemirror_mode": {
    "name": "ipython",
    "version": 3
   },
   "file_extension": ".py",
   "mimetype": "text/x-python",
   "name": "python",
   "nbconvert_exporter": "python",
   "pygments_lexer": "ipython3",
   "version": "3.6.8"
  }
 },
 "nbformat": 4,
 "nbformat_minor": 2
}
